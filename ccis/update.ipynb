{
 "cells": [
  {
   "cell_type": "code",
   "execution_count": 9,
   "metadata": {},
   "outputs": [
    {
     "name": "stdout",
     "output_type": "stream",
     "text": [
      "Collecting pandas\n",
      "  Using cached pandas-2.0.1-cp311-cp311-win_amd64.whl (10.6 MB)\n",
      "Requirement already satisfied: python-dateutil>=2.8.2 in e:\\ccis-web\\venv\\lib\\site-packages (from pandas) (2.8.2)\n",
      "Collecting pytz>=2020.1\n",
      "  Using cached pytz-2023.3-py2.py3-none-any.whl (502 kB)\n",
      "Requirement already satisfied: tzdata>=2022.1 in e:\\ccis-web\\venv\\lib\\site-packages (from pandas) (2023.3)\n",
      "Collecting numpy>=1.21.0\n",
      "  Downloading numpy-1.24.3-cp311-cp311-win_amd64.whl (14.8 MB)\n",
      "     ---------------------------------------- 14.8/14.8 MB 1.0 MB/s eta 0:00:00\n",
      "Requirement already satisfied: six>=1.5 in e:\\ccis-web\\venv\\lib\\site-packages (from python-dateutil>=2.8.2->pandas) (1.16.0)\n",
      "Installing collected packages: pytz, numpy, pandas\n",
      "Successfully installed numpy-1.24.3 pandas-2.0.1 pytz-2023.3\n",
      "Note: you may need to restart the kernel to use updated packages.\n"
     ]
    },
    {
     "name": "stderr",
     "output_type": "stream",
     "text": [
      "\n",
      "[notice] A new release of pip available: 22.3.1 -> 23.1.2\n",
      "[notice] To update, run: python.exe -m pip install --upgrade pip\n"
     ]
    }
   ],
   "source": [
    "pip install pandas"
   ]
  },
  {
   "cell_type": "code",
   "execution_count": 2,
   "metadata": {},
   "outputs": [
    {
     "name": "stdout",
     "output_type": "stream",
     "text": [
      "Collecting pymysql\n",
      "  Using cached PyMySQL-1.0.3-py3-none-any.whl (43 kB)\n",
      "Installing collected packages: pymysql\n",
      "Successfully installed pymysql-1.0.3\n",
      "Note: you may need to restart the kernel to use updated packages.\n"
     ]
    },
    {
     "name": "stderr",
     "output_type": "stream",
     "text": [
      "\n",
      "[notice] A new release of pip available: 22.3.1 -> 23.1.2\n",
      "[notice] To update, run: python.exe -m pip install --upgrade pip\n"
     ]
    }
   ],
   "source": [
    "pip install pymysql"
   ]
  },
  {
   "cell_type": "code",
   "execution_count": 16,
   "metadata": {},
   "outputs": [],
   "source": [
    "import pandas as pd\n",
    "import pymysql"
   ]
  },
  {
   "cell_type": "code",
   "execution_count": 11,
   "metadata": {},
   "outputs": [],
   "source": [
    "def conMysql():\n",
    "    con = pymysql.connect(\n",
    "        host = '10.6.32.24',\n",
    "        database = 'database_ccis',\n",
    "        user = 'admin',\n",
    "        password = 'S1coob4155@@',\n",
    "        autocommit = True,\n",
    "    )\n",
    "    cursor = con.cursor()\n",
    "    return cursor"
   ]
  },
  {
   "cell_type": "code",
   "execution_count": 24,
   "metadata": {},
   "outputs": [],
   "source": [
    "dfFuncionario = pd.read_excel('E:\\\\CCIS-Web\\\\Funcionários.xlsx')"
   ]
  },
  {
   "cell_type": "code",
   "execution_count": 25,
   "metadata": {},
   "outputs": [
    {
     "name": "stdout",
     "output_type": "stream",
     "text": [
      "      Nº                                  Nome       SEXO Situação   \n",
      "0      1      ADRIANA GUIMARÃES DE SOUZA NEVES   Feminino    Ativo  \\\n",
      "1      2                       ADRIANA PICCOLI   Feminino    Ativo   \n",
      "2      3  ADRIELLE ELISANDRA BORGES DOS SANTOS   Feminino  Inativo   \n",
      "3      4                 ADRIELLE SANTOS LIMA    Feminino  Inativo   \n",
      "4      5               ADRIANO VIEIRA DE SOUSA  Masculino    Ativo   \n",
      "..   ...                                   ...        ...      ...   \n",
      "249  250                STELA DE SOUZA VIEIRA    Feminino    Ativo   \n",
      "250  251           WASHINGTON PIRES DE ARAÚJO   Masculino    Ativo   \n",
      "251  252              WILLIAN MENDES DA SILVA   masculino    Ativo   \n",
      "252  247               WILTON VIEIRA SZERVINSK  Masculino    Ativo   \n",
      "253  248         ZILMARCIO ALVES BRANDÃO FILHO  Masculino    Ativo   \n",
      "\n",
      "               Empregador          Colaborador Mãe/Pai          CPF   \n",
      "0    Sicoob Credibrasília       Funcionário(a)     Sim   4930693136  \\\n",
      "1    Sicoob Credibrasília  Diretoria Executiva     Sim  36887757168   \n",
      "2    Sicoob Credibrasília       Funcionário(a)     NaN  38851232822   \n",
      "3    Sicoob Credibrasília       Funcionário(a)     Não   4358344100   \n",
      "4    Sicoob Credibrasília       Funcionário(a)     Não   5290947116   \n",
      "..                    ...                  ...     ...          ...   \n",
      "249             BS Soares      Terceirizado(a)     NaN  52471721168   \n",
      "250          Life Defense      Terceirizado(a)     NaN  41759966134   \n",
      "251          Life Defense      Terceirizado(a)     NaN    453655122   \n",
      "252  Sicoob Credibrasília       Funcionário(a)     Não   6813805193   \n",
      "253  Sicoob Credibrasília       Funcionário(a)     Não   5048071107   \n",
      "\n",
      "            RG Órgão Expedidor  ... Comprovante Residência   \n",
      "0      3135259              DF  ...             2021-08-04  \\\n",
      "1       942405          SES/DF  ...             2019-01-07   \n",
      "2     23122462          SSP/MG  ...             2021-02-03   \n",
      "3      3011173              DF  ...             2021-11-16   \n",
      "4      6347593              DF  ...             2021-10-02   \n",
      "..         ...             ...  ...                    ...   \n",
      "249  1295634\\n         SSP DF   ...                    NaT   \n",
      "250        NaN             NaN  ...                    NaT   \n",
      "251        NaN             NaN  ...                    NaT   \n",
      "252    6561188              DF  ...             2021-03-08   \n",
      "253    5171594              GO  ...             2022-05-19   \n",
      "\n",
      "    Vencimento Comprovante Residência Atestado Admissional ou Periódico   \n",
      "0                          2022-08-04               2021-08-11 00:00:00  \\\n",
      "1                          2020-01-07               2018-09-19 00:00:00   \n",
      "2                          2022-02-03               2021-10-13 00:00:00   \n",
      "3                          2022-11-16               2021-12-16 00:00:00   \n",
      "4                          2022-10-02               2022-12-22 00:00:00   \n",
      "..                                ...                               ...   \n",
      "249                               NaT                               NaN   \n",
      "250                               NaT                               NaN   \n",
      "251                               NaT                               NaN   \n",
      "252                        2022-03-08               2022-03-10 00:00:00   \n",
      "253                        2023-05-19               2022-03-25 00:00:00   \n",
      "\n",
      "    Vencimento do Atestado     Tipo de Atestado Contrato - Início   \n",
      "0               2023-08-11  RETORNO AO TRABALHO               NaN  \\\n",
      "1               2019-09-19            PERIÓDICO               NaN   \n",
      "2               2022-10-13          ADMISSIONAL               NaN   \n",
      "3               2023-12-16          ADMISSIONAL               NaN   \n",
      "4               2024-12-21            PERIÓDICO               NaN   \n",
      "..                     ...                  ...               ...   \n",
      "249                    NaT                  NaN               NaN   \n",
      "250                    NaT                  NaN               NaN   \n",
      "251                    NaT                  NaN               NaN   \n",
      "252             2024-03-09            PERIÓDICO               NaN   \n",
      "253             2024-03-24          ADMISSIONAL               NaN   \n",
      "\n",
      "    Contrato - Enceramento Fotos is_superuser senha  \n",
      "0                      NaN   NaN            0  4155  \n",
      "1                      NaN   NaN            0  4155  \n",
      "2                      NaN   NaN            0  4155  \n",
      "3                      NaN   NaN            0  4155  \n",
      "4                      NaN   NaN            0  4155  \n",
      "..                     ...   ...          ...   ...  \n",
      "249                    NaN   NaN            0  4155  \n",
      "250                    NaN   NaN            0  4155  \n",
      "251                    NaN   NaN            0  4155  \n",
      "252                    NaN   NaN            0  4155  \n",
      "253                    NaN   NaN            0  4155  \n",
      "\n",
      "[254 rows x 60 columns]\n"
     ]
    }
   ],
   "source": [
    "print(dfFuncionario)"
   ]
  },
  {
   "cell_type": "code",
   "execution_count": 27,
   "metadata": {},
   "outputs": [],
   "source": [
    "for i, dados in enumerate(dfFuncionario['Nome']):\n",
    "    nome = dfFuncionario.loc[i,'Nome']\n",
    "    cpf = dfFuncionario.loc[i,'CPF']\n",
    "    rg = dfFuncionario.loc[i,'RG']\n",
    "    expedidor = dfFuncionario.loc[i,'Órgão Expedidor']\n",
    "    sexo = dfFuncionario.loc[i,'SEXO']\n",
    "    dataNascimento= dfFuncionario.loc[i,'Data de Nascimento']\n",
    "    estadoCivil = dfFuncionario.loc[i,'Estado Civil']\n",
    "    ctps = dfFuncionario.loc[i,'CTPS']\n",
    "    dataCtps = dfFuncionario.loc[i,'Data de Emissão da CTPS']\n",
    "    serieCtps = dfFuncionario.loc[i,'Série']\n",
    "    pis = dfFuncionario.loc[i,'PIS']\n",
    "\n",
    "    try:    \n",
    "    \n",
    "        conexao = conMysql()\n",
    "        conexao.execute(f\"\"\"INSERT INTO database_ccis.ccis_dadospessoais(\n",
    "        nomeCompleto,cpf,rg,expedidor,sexo,dataNascimento,estadoCivil,ctps,dataCTPS,serieCTPS,pis)\n",
    "        value('{nome}','{cpf}','{rg}','{expedidor}','{sexo}','{dataNascimento}','{estadoCivil}',\n",
    "        '{ctps}','{dataCtps}','{serieCtps}','{pis}')\"\"\")\n",
    "\n",
    "    except pymysql.Error as erro:\n",
    "        print(erro)"
   ]
  },
  {
   "cell_type": "code",
   "execution_count": 29,
   "metadata": {},
   "outputs": [],
   "source": [
    "for i, dados in enumerate(dfFuncionario['Nome']):\n",
    "    endereco = dfFuncionario.loc[i,'ENDEREÇO']\n",
    "    bairro = dfFuncionario.loc[i,'Bairro']\n",
    "    cidade = dfFuncionario.loc[i,'CIDADE']\n",
    "    estado = dfFuncionario.loc[i,'ESTADO']\n",
    "    cep = dfFuncionario.loc[i,'CEP']\n",
    "    emailCorporativo= dfFuncionario.loc[i,'E-mail Corporativo']\n",
    "    telefoneCorporativo = dfFuncionario.loc[i,'Telefone Corporativo']\n",
    "    celularCorporativo = dfFuncionario.loc[i,'Celular Corporativo']\n",
    "    celularPessoal = dfFuncionario.loc[i,'Telefone Pessoal']\n",
    "\n",
    "\n",
    "    \n",
    "\n",
    "    try:    \n",
    "    \n",
    "        conexao = conMysql()\n",
    "        conexao.execute(f\"\"\"INSERT INTO database_ccis.ccis_enderecocontato(\n",
    "        endereco,bairro,cidade,estado,cep,emailCorporativo,telefoneCorporativo,celularCorporativo,celularPessoal)\n",
    "        value(\"{endereco}\",\"{bairro}\",\"{cidade}\",\"{estado}\",\"{cep}\",\"{emailCorporativo}\",\"{telefoneCorporativo}\",\n",
    "        \"{celularCorporativo}\",\"{celularPessoal}\")\"\"\")\n",
    "\n",
    "    except pymysql.Error as erro:\n",
    "        print(erro)"
   ]
  },
  {
   "cell_type": "code",
   "execution_count": 29,
   "metadata": {},
   "outputs": [],
   "source": [
    "for i, dados in enumerate(dfFuncionario['Nome']):\n",
    "    cargo = dfFuncionario.loc[i,'Cargo']\n",
    "    paUnidade = dfFuncionario.loc[i,'PA / Unidade']\n",
    "    colaborador = dfFuncionario.loc[i,'Colaborador']\n",
    "    empregador = dfFuncionario.loc[i,'Empregador']\n",
    "    superiorImediato = dfFuncionario.loc[i,'Superior Imediato ']\n",
    "    admissao = dfFuncionario.loc[i,'Admissão']\n",
    "    desligamento = dfFuncionario.loc[i,'Data de desligamento']\n",
    "    situacao = dfFuncionario.loc[i,'Situação']\n",
    "    horarioEntrada = dfFuncionario.loc[i,'Horário Entrada']\n",
    "    horarioSaida = dfFuncionario.loc[i,'Horário Saída']\n",
    "    \n",
    "\n",
    "    #print(nome,cpf,rg,expedidor,sexo,dataNascimento,idade,estadoCivil,ctps,dataCtps,serieCtps,pis)\n",
    "\n",
    "    try:    \n",
    "    \n",
    "        conexao = conMysql()\n",
    "        conexao.execute(f\"\"\"INSERT INTO database_ccis.ccis_profissional(\n",
    "        cargo,paUnidade,colaborador,empregador,superiorImediato,admissao,desligamento,situacao,horarioEntrada,horarioSaida)\n",
    "        value('{cargo}','{paUnidade}','{colaborador}','{empregador}','{superiorImediato}','{admissao}','{desligamento}',\n",
    "        '{situacao}','{horarioEntrada}','{horarioSaida}')\"\"\")\n",
    "\n",
    "    except pymysql.Error as erro:\n",
    "        print(erro)"
   ]
  },
  {
   "cell_type": "code",
   "execution_count": 31,
   "metadata": {},
   "outputs": [],
   "source": [
    "for i, dados in enumerate(dfFuncionario['Nome']):\n",
    "    camiseta = dfFuncionario.loc[i,'Tamanho Camiseta']\n",
    "    \n",
    "    \n",
    "\n",
    "    try:    \n",
    "    \n",
    "        conexao = conMysql()\n",
    "        conexao.execute(f\"\"\"INSERT INTO database_rh.ccis_outros(camiseta)\n",
    "        value('{camiseta}')\"\"\")\n",
    "\n",
    "    except pymysql.Error as erro:\n",
    "        print(erro)"
   ]
  }
 ],
 "metadata": {
  "kernelspec": {
   "display_name": "venv",
   "language": "python",
   "name": "python3"
  },
  "language_info": {
   "codemirror_mode": {
    "name": "ipython",
    "version": 3
   },
   "file_extension": ".py",
   "mimetype": "text/x-python",
   "name": "python",
   "nbconvert_exporter": "python",
   "pygments_lexer": "ipython3",
   "version": "3.11.2"
  },
  "orig_nbformat": 4
 },
 "nbformat": 4,
 "nbformat_minor": 2
}
